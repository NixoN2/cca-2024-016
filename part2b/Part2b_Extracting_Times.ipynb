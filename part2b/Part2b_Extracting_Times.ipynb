{
 "cells": [
  {
   "cell_type": "markdown",
   "id": "5cbc742c-b46f-4bdf-8b96-c90a20f6f0e0",
   "metadata": {},
   "source": [
    "Plot a line graph with speedup as the y-axis (normalized time to the single\n",
    "thread config, Time1 / Timen) vs. number of threads on the x-axis (1, 2, 4 and 8 threads)"
   ]
  },
  {
   "cell_type": "code",
   "execution_count": 3,
   "id": "b7cd4524-6dec-4612-b9c6-70498027fe93",
   "metadata": {},
   "outputs": [],
   "source": [
    "import pandas as pd\n",
    "import numpy as np\n",
    "import os\n",
    "\n",
    "workload_keys = [\"blackscholes\", \"canneal\", \"dedup\", \"ferret\", \"freqmine\", \"radix\", \"vips\"]\n",
    "thread_keys = [1,2,4,8]"
   ]
  },
  {
   "cell_type": "code",
   "execution_count": 9,
   "id": "8e956550-93be-4567-a5a9-72d6059b6282",
   "metadata": {},
   "outputs": [],
   "source": [
    "real_work_dict = {}\n",
    "user_work_dict = {}\n",
    "sys_work_dict = {}\n",
    "\n",
    "for workload in workload_keys:\n",
    "    \n",
    "    real_int_dict = {}\n",
    "    user_int_dict = {}\n",
    "    sys_int_dict = {}\n",
    "    \n",
    "    for thread in thread_keys:\n",
    "        \n",
    "        file_path = f\"logs_parsec-{workload}_{thread}.txt\"\n",
    "        \n",
    "        with open(file_path, 'r', encoding = 'utf-16le') as file:\n",
    "            \n",
    "            counter = 0\n",
    "            \n",
    "            for line in file:\n",
    "                \n",
    "                if line.startswith(\"real\"):\n",
    "                    time = line[line.find(\"\\t\")+1:line.find(\"\\n\")]\n",
    "                    minutes = float(time[:time.find(\"m\")])\n",
    "                    seconds = float(time[time.find(\"m\")+1:time.find(\"s\")])\n",
    "                    total_time_in_sec = minutes*60 + seconds\n",
    "                    real_int_dict[thread] = total_time_in_sec\n",
    "                    counter = counter + 1\n",
    "\n",
    "                elif line.startswith(\"user\"):\n",
    "                    time = line[line.find(\"\\t\")+1:line.find(\"\\n\")]\n",
    "                    minutes = float(time[:time.find(\"m\")])\n",
    "                    seconds = float(time[time.find(\"m\")+1:time.find(\"s\")])\n",
    "                    total_time_in_sec = minutes*60 + seconds\n",
    "                    user_int_dict[thread] = total_time_in_sec\n",
    "                    counter = counter + 1\n",
    "\n",
    "                \n",
    "                elif line.startswith(\"sys\"):\n",
    "                    time = line[line.find(\"\\t\")+1:line.find(\"\\n\")]\n",
    "                    minutes = float(time[:time.find(\"m\")])\n",
    "                    seconds = float(time[time.find(\"m\")+1:time.find(\"s\")])\n",
    "                    total_time_in_sec = minutes*60 + seconds\n",
    "                    sys_int_dict[thread] = total_time_in_sec\n",
    "                    counter = counter + 1\n",
    "\n",
    "                else:\n",
    "                    pass\n",
    "                                \n",
    "                if counter == 3:\n",
    "                    break\n",
    "\n",
    "    real_work_dict[workload] = real_int_dict\n",
    "    user_work_dict[workload] = user_work_dict\n",
    "    sys_work_dict[workload] = sys_work_dict\n",
    "\n",
    "pd.DataFrame(real_work_dict).T.to_csv(\"real_work_dict.csv\")\n",
    "pd.DataFrame(user_work_dict).T.to_csv(\"user_work_dict.csv\")\n",
    "pd.DataFrame(sys_work_dict).T.to_csv(\"sys_work_dict.csv\")"
   ]
  },
  {
   "cell_type": "code",
   "execution_count": null,
   "id": "552e8897-50be-4919-afb9-c5667d362ca9",
   "metadata": {},
   "outputs": [],
   "source": []
  },
  {
   "cell_type": "code",
   "execution_count": null,
   "id": "7fbe11ec-99fd-4db2-8073-2fe5632095c6",
   "metadata": {},
   "outputs": [],
   "source": []
  }
 ],
 "metadata": {
  "kernelspec": {
   "display_name": "Python (IML)",
   "language": "python",
   "name": "iml"
  },
  "language_info": {
   "codemirror_mode": {
    "name": "ipython",
    "version": 3
   },
   "file_extension": ".py",
   "mimetype": "text/x-python",
   "name": "python",
   "nbconvert_exporter": "python",
   "pygments_lexer": "ipython3",
   "version": "3.12.2"
  }
 },
 "nbformat": 4,
 "nbformat_minor": 5
}
