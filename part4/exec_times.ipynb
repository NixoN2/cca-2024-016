{
 "cells": [
  {
   "cell_type": "code",
   "execution_count": null,
   "metadata": {},
   "outputs": [],
   "source": [
    "import pandas as pd\n",
    "import re\n",
    "import os\n",
    "\n",
    "script_dir = os.getcwd()\n",
    "data_dir = os.path.join(script_dir, \"..\", \"runs\")\n",
    "\n",
    "run_data = {}\n",
    "pattern = r\"Job:\\s+(\\S+)\\s+Job time:\\s+(\\d+:\\d+:\\d+)\"\n",
    "pattern_1 = r\"Job:\\s+(\\S+)\\s+Total time:\\s+(\\d+:\\d+:\\d+)\"\n",
    "\n",
    "print(\"Extracting Execution Times...\")\n",
    "\n",
    "for i in range(3):\n",
    "    run_identifier = f\"{i+1}\"\n",
    "    run_dir = os.path.join(data_dir, f\"{i+1}\", \"time.txt\")\n",
    "    \n",
    "    with open(run_dir, \"r\", encoding='utf-16') as file:\n",
    "        content = file.read()\n",
    "\n",
    "    matches = re.findall(pattern, content)\n",
    "    matches_1 = re.findall(pattern_1, content)\n",
    "\n",
    "    job_times = {}\n",
    "    for match in matches:\n",
    "        job_name = match[0]\n",
    "        job_name = job_name[7:]\n",
    "        time = match[1]\n",
    "        job_times[job_name] = time\n",
    "\n",
    "    for match in matches_1:\n",
    "        job_name = match[0]\n",
    "        time = match[1]\n",
    "        job_times[job_name] = time\n",
    "    \n",
    "    run_data[run_identifier] = job_times\n",
    "\n",
    "print(\"Analysing Execution Times...\")\n",
    "time_df = pd.DataFrame(run_data)\n",
    "time_df = time_df.apply(pd.to_timedelta).map(lambda x: x.total_seconds())\n",
    "# total_row = pd.DataFrame(time_df.sum(axis=0)).T\n",
    "# total_row.index=['total time']\n",
    "# time_df = pd.concat([time_df, total_row])\n",
    "time_df['mean'] = time_df.mean(axis=1)\n",
    "time_df['std_dev'] = time_df.std(axis=1, ddof=2)\n",
    "\n",
    "print(\"Exporting Analysed Data...\")\n",
    "time_df.to_csv(\"execution_times.csv\")\n",
    "print(\"Script Run Successfully\")"
   ]
  }
 ],
 "metadata": {
  "language_info": {
   "name": "python"
  }
 },
 "nbformat": 4,
 "nbformat_minor": 2
}
